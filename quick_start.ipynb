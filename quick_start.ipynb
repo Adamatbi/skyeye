{
 "cells": [
  {
   "cell_type": "code",
   "execution_count": null,
   "metadata": {},
   "outputs": [],
   "source": [
    "from src.LocationResolver import *"
   ]
  },
  {
   "cell_type": "markdown",
   "metadata": {},
   "source": [
    "Load model and image"
   ]
  },
  {
   "cell_type": "code",
   "execution_count": null,
   "metadata": {},
   "outputs": [],
   "source": [
    "model_path = \"vision_models/buildings.pt\"\n",
    "\n",
    "# select from 5 test images\n",
    "image_path = \"test_images/test_1.jpg\""
   ]
  },
  {
   "cell_type": "markdown",
   "metadata": {},
   "source": [
    "Define search area"
   ]
  },
  {
   "cell_type": "code",
   "execution_count": null,
   "metadata": {},
   "outputs": [],
   "source": [
    "# neighborhood in Surrey, BC\n",
    "top_left = (49.182684, -122.916258)\n",
    "bottom_right = (49.166954, -122.895738)\n",
    "\n",
    "polygon = polygon_from_points((top_left, bottom_right))\n",
    "drone_height_range = (250,350)"
   ]
  },
  {
   "cell_type": "markdown",
   "metadata": {},
   "source": [
    "Resolve location"
   ]
  },
  {
   "cell_type": "code",
   "execution_count": null,
   "metadata": {},
   "outputs": [],
   "source": [
    "resolver = LocationResolver(model_path)\n",
    "drone_location = resolver.get_location(image_path,polygon,drone_height_range)\n",
    "print(\"drone location: \", *drone_location['location'])\n",
    "print(\"drone height: \", drone_location['height'])"
   ]
  }
 ],
 "metadata": {
  "kernelspec": {
   "display_name": "Python 3",
   "language": "python",
   "name": "python3"
  },
  "language_info": {
   "codemirror_mode": {
    "name": "ipython",
    "version": 3
   },
   "file_extension": ".py",
   "mimetype": "text/x-python",
   "name": "python",
   "nbconvert_exporter": "python",
   "pygments_lexer": "ipython3",
   "version": "3.11.5"
  }
 },
 "nbformat": 4,
 "nbformat_minor": 2
}
